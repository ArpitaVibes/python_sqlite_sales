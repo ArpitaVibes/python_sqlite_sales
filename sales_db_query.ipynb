{
 "cells": [
  {
   "cell_type": "code",
   "execution_count": 1,
   "id": "b36589cd-4993-4d94-aa2a-3fd296188172",
   "metadata": {},
   "outputs": [],
   "source": [
    "import sqlite3"
   ]
  },
  {
   "cell_type": "code",
   "execution_count": 2,
   "id": "42c3ff05-c24f-4418-894c-e0987ca321c0",
   "metadata": {},
   "outputs": [],
   "source": [
    "#create or connect to a SQLite database file\n",
    "conn = sqlite3.connect(\"sales_data.db\")\n",
    "cursor = conn.cursor()"
   ]
  },
  {
   "cell_type": "code",
   "execution_count": 3,
   "id": "988967de-e2c9-4a79-8289-b3cbaf36ad4f",
   "metadata": {},
   "outputs": [
    {
     "data": {
      "text/plain": [
       "<sqlite3.Cursor at 0x1f50a7272c0>"
      ]
     },
     "execution_count": 3,
     "metadata": {},
     "output_type": "execute_result"
    }
   ],
   "source": [
    "#create a table called \"sales\"\n",
    "cursor.execute(\"\"\"\n",
    "CREATE TABLE IF NOT EXISTS sales (\n",
    "    product TEXT,\n",
    "    quantity INTEGER,\n",
    "    price REAL\n",
    ")\n",
    "\"\"\")"
   ]
  },
  {
   "cell_type": "code",
   "execution_count": 4,
   "id": "e8838dba-b8df-4123-8a8e-bda45752d09c",
   "metadata": {},
   "outputs": [
    {
     "data": {
      "text/plain": [
       "<sqlite3.Cursor at 0x1f50a7272c0>"
      ]
     },
     "execution_count": 4,
     "metadata": {},
     "output_type": "execute_result"
    }
   ],
   "source": [
    "#ADD sample sales data\n",
    "sample_data = [(\"Apples\", 10, 0.50),(\"Bananas\", 20, 0.30),(\"Cherries\", 15, 0.75)]\n",
    "cursor.executemany(\"INSERT INTO sales (product, quantity, price) VALUES (?, ?, ?)\", sample_data)"
   ]
  },
  {
   "cell_type": "code",
   "execution_count": 5,
   "id": "07980002-77ee-4048-bdeb-ae333b6e3cec",
   "metadata": {},
   "outputs": [],
   "source": [
    "#save the changes and close the connection\n",
    "conn.commit()\n",
    "conn.close()"
   ]
  },
  {
   "cell_type": "code",
   "execution_count": null,
   "id": "e115a7fd-2d92-470e-af31-0b7010ec7176",
   "metadata": {},
   "outputs": [],
   "source": []
  },
  {
   "cell_type": "code",
   "execution_count": 6,
   "id": "2b0914bd-8eae-4c6b-9d25-3d293867a1f9",
   "metadata": {},
   "outputs": [],
   "source": [
    "import pandas as pd\n",
    "import matplotlib.pyplot as plt"
   ]
  },
  {
   "cell_type": "code",
   "execution_count": 7,
   "id": "09a37e8f-1860-412e-b82a-c40016f93fa7",
   "metadata": {},
   "outputs": [],
   "source": [
    "#connect to the database\n",
    "conn = sqlite3.connect(\"sales_data.db\")"
   ]
  },
  {
   "cell_type": "code",
   "execution_count": 8,
   "id": "dd675eb8-6501-40f1-b4dc-222e9ccb6c21",
   "metadata": {},
   "outputs": [],
   "source": [
    "#define the query\n",
    "query = \"\"\"\n",
    "SELECT\n",
    "    product,\n",
    "    SUM(quantity) AS total_qty,\n",
    "    SUM(quantity * price) AS revenue\n",
    "FROM sales\n",
    "GROUP BY product\n",
    "\"\"\""
   ]
  },
  {
   "cell_type": "code",
   "execution_count": 9,
   "id": "cad1851a-7615-401b-9489-354c325132df",
   "metadata": {},
   "outputs": [
    {
     "name": "stdout",
     "output_type": "stream",
     "text": [
      "    product  total_qty  revenue\n",
      "0    Apples         10     5.00\n",
      "1   Bananas         20     6.00\n",
      "2  Cherries         15    11.25\n"
     ]
    }
   ],
   "source": [
    "#execute the query and load into pandas\n",
    "df = pd.read_sql_query(query, conn)\n",
    "print(df)"
   ]
  },
  {
   "cell_type": "code",
   "execution_count": 20,
   "id": "3726fa16-6513-4e12-a0ae-af6e7ac64cf1",
   "metadata": {},
   "outputs": [
    {
     "data": {
      "image/png": "[encoded data removed]",
      "text/plain": [
       "<Figure size 640x480 with 1 Axes>"
      ]
     },
     "metadata": {},
     "output_type": "display_data"
    }
   ],
   "source": [
    "#plot the bar chart\n",
    "df.plot(kind='bar', x='product', y='revenue', title='Revenue by Product', color='#FF5733')\n",
    "plt.ylabel(\"Revenue\")\n",
    "plt.tight_layout()"
   ]
  },
  {
   "cell_type": "code",
   "execution_count": 21,
   "id": "978dc840-8915-4f99-b9c2-cca637ecb416",
   "metadata": {},
   "outputs": [
    {
     "data": {
      "text/plain": [
       "<Figure size 640x480 with 0 Axes>"
      ]
     },
     "metadata": {},
     "output_type": "display_data"
    }
   ],
   "source": [
    "#save the chart\n",
    "plt.savefig(\"sales_chart.png\")"
   ]
  },
  {
   "cell_type": "code",
   "execution_count": 26,
   "id": "28b427aa-6d7c-414f-bb17-26e451221173",
   "metadata": {},
   "outputs": [],
   "source": [
    "conn.close()"
   ]
  },
  {
   "cell_type": "code",
   "execution_count": null,
   "id": "b3af4003-bbb6-4e59-bff2-94222b8a69fc",
   "metadata": {},
   "outputs": [],
   "source": []
  }
 ],
 "metadata": {
  "kernelspec": {
   "display_name": "Python 3 (ipykernel)",
   "language": "python",
   "name": "python3"
  },
  "language_info": {
   "codemirror_mode": {
    "name": "ipython",
    "version": 3
   },
   "file_extension": ".py",
   "mimetype": "text/x-python",
   "name": "python",
   "nbconvert_exporter": "python",
   "pygments_lexer": "ipython3",
   "version": "3.12.4"
  }
 },
 "nbformat": 4,
 "nbformat_minor": 5
}
